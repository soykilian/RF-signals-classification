{
 "cells": [
  {
   "cell_type": "code",
   "execution_count": 1,
   "id": "1aae7ed1",
   "metadata": {},
   "outputs": [],
   "source": [
    "import h5py\n",
    "import numpy as np\n",
    "import tensorflow as tf\n",
    "from tensorflow.keras import layers, optimizers\n",
    "from tensorflow.keras.layers import Input, Dense, Activation, ZeroPadding2D, BatchNormalization, Flatten, Conv2D, Conv1D,Convolution2D, Bidirectional, LSTM, GRU\n"
   ]
  },
  {
   "cell_type": "code",
   "execution_count": 15,
   "id": "edc09809",
   "metadata": {},
   "outputs": [
    {
     "ename": "AttributeError",
     "evalue": "module 'tensorflow.keras.layers' has no attribute 'CuDNNLSTM'",
     "output_type": "error",
     "traceback": [
      "\u001b[0;31m---------------------------------------------------------------------------\u001b[0m",
      "\u001b[0;31mAttributeError\u001b[0m                            Traceback (most recent call last)",
      "Input \u001b[0;32mIn [15]\u001b[0m, in \u001b[0;36m<cell line: 1>\u001b[0;34m()\u001b[0m\n\u001b[0;32m----> 1\u001b[0m layer \u001b[38;5;241m=\u001b[39m \u001b[43mtf\u001b[49m\u001b[38;5;241;43m.\u001b[39;49m\u001b[43mkeras\u001b[49m\u001b[38;5;241;43m.\u001b[39;49m\u001b[43mlayers\u001b[49m\u001b[38;5;241;43m.\u001b[39;49m\u001b[43mCuDNNLSTM\u001b[49m\n",
      "\u001b[0;31mAttributeError\u001b[0m: module 'tensorflow.keras.layers' has no attribute 'CuDNNLSTM'"
     ]
    }
   ],
   "source": []
  },
  {
   "cell_type": "code",
   "execution_count": 2,
   "id": "0482622e",
   "metadata": {},
   "outputs": [
    {
     "data": {
      "text/plain": [
       "array([[[-0.33212639,  0.39629314],\n",
       "        [-0.06346244,  0.27382535],\n",
       "        [-0.33052451, -0.353802  ],\n",
       "        ...,\n",
       "        [-0.08010806,  0.05025037],\n",
       "        [ 0.38708855, -0.19572124],\n",
       "        [ 0.36660985, -0.16003253]],\n",
       "\n",
       "       [[-0.32313948, -0.01441895],\n",
       "        [-0.19332251,  0.13326575],\n",
       "        [ 0.11134531, -0.25086128],\n",
       "        ...,\n",
       "        [-0.01043095,  0.38727711],\n",
       "        [ 0.14154639,  0.06040899],\n",
       "        [ 0.0601659 , -0.57802223]],\n",
       "\n",
       "       [[ 0.07622417, -0.29107633],\n",
       "        [ 0.00124753,  0.65663207],\n",
       "        [-0.08690617,  0.32121451],\n",
       "        ...,\n",
       "        [-0.27467573,  0.37230886],\n",
       "        [ 0.14076824,  0.16821686],\n",
       "        [-0.11980717,  0.1549742 ]],\n",
       "\n",
       "       ...,\n",
       "\n",
       "       [[ 0.92314123, -0.05578157],\n",
       "        [ 0.83795552, -0.04156242],\n",
       "        [ 0.90506634,  0.08911899],\n",
       "        ...,\n",
       "        [ 0.39318471, -0.8147565 ],\n",
       "        [ 0.41417683, -0.76420959],\n",
       "        [ 0.45659831, -0.71049093]],\n",
       "\n",
       "       [[ 0.79842669,  0.01335957],\n",
       "        [ 0.80147734, -0.18385268],\n",
       "        [ 0.69005213, -0.4181334 ],\n",
       "        ...,\n",
       "        [ 0.65069742, -0.56954472],\n",
       "        [ 0.39270436, -0.72180921],\n",
       "        [ 0.01895191, -0.79854948]],\n",
       "\n",
       "       [[ 0.79055234, -0.11034189],\n",
       "        [ 0.49455605, -0.62621588],\n",
       "        [-0.25418684, -0.72396797],\n",
       "        ...,\n",
       "        [-0.5757427 ,  0.46662032],\n",
       "        [ 0.07525668,  0.78898222],\n",
       "        [ 0.69768211,  0.52483425]]])"
      ]
     },
     "execution_count": 2,
     "metadata": {},
     "output_type": "execute_result"
    }
   ],
   "source": [
    "with h5py.File('/mnt/Data/gmr/X_test.mat', 'r') as f:\n",
    "    X_train = np.array(f['X_test']).T\n",
    "X_train"
   ]
  },
  {
   "cell_type": "code",
   "execution_count": 3,
   "id": "907cdf76",
   "metadata": {},
   "outputs": [
    {
     "data": {
      "text/plain": [
       "(102000, 1024, 2)"
      ]
     },
     "execution_count": 3,
     "metadata": {},
     "output_type": "execute_result"
    }
   ],
   "source": [
    "X_train.shape"
   ]
  },
  {
   "cell_type": "code",
   "execution_count": 5,
   "id": "24fb8152",
   "metadata": {},
   "outputs": [],
   "source": [
    "I_x = X_train[:, :, 0]\n",
    "Q_x = X_train[:, :, 1]\n",
    "X_train[:,:1] = np.arctan(Q_x, I_x)/ np.pi\n",
    "X_train[:,:,0] = np.abs(I_x + 1j*Q_x)"
   ]
  },
  {
   "cell_type": "code",
   "execution_count": 8,
   "id": "100c05b3",
   "metadata": {},
   "outputs": [
    {
     "data": {
      "text/plain": [
       "11.180339887498949"
      ]
     },
     "execution_count": 8,
     "metadata": {},
     "output_type": "execute_result"
    }
   ],
   "source": []
  },
  {
   "cell_type": "code",
   "execution_count": null,
   "id": "90ffcf78",
   "metadata": {},
   "outputs": [],
   "source": []
  }
 ],
 "metadata": {
  "kernelspec": {
   "display_name": "Python 3 (ipykernel)",
   "language": "python",
   "name": "python3"
  },
  "language_info": {
   "codemirror_mode": {
    "name": "ipython",
    "version": 3
   },
   "file_extension": ".py",
   "mimetype": "text/x-python",
   "name": "python",
   "nbconvert_exporter": "python",
   "pygments_lexer": "ipython3",
   "version": "3.10.5"
  }
 },
 "nbformat": 4,
 "nbformat_minor": 5
}
