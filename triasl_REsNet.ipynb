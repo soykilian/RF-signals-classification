{
 "cells": [
  {
   "cell_type": "markdown",
   "metadata": {
    "collapsed": true,
    "pycharm": {
     "name": "#%% md\n"
    }
   },
   "source": [
    "## In this notebook we attempt to train a ResNet structure\n",
    " - Inputs : Time sequences with 1024 samples\n",
    " - Label: 23 possible modulations (M_FSK, LFM, M_PSK, ...)\n",
    "\n",
    "More information on the residual stack from ResNet [here](https://towardsdatascience.com/intuition-behind-residual-neural-networks-fa5d2996b2c7)"
   ]
  },
  {
   "cell_type": "code",
   "execution_count": null,
   "outputs": [],
   "source": [
    "import h5py\n",
    "import numpy as np\n",
    "import tensorflow as tf\n",
    "from tensorflow.keras import layers, optimizers\n",
    "from tensorflow.keras.layers import Input, Dense, Activation, ZeroPadding2D, BatchNormalization, Flatten, Add, Conv1D,Convolution2D, Bidirectional, LSTM, GRU, AlphaDropout\n",
    "from tensorflow.keras.layers import MaxPooling2D, Dropout\n",
    "from tensorflow.keras.models import Model\n",
    "from sklearn.metrics import confusion_matrix\n",
    "from tensorflow.keras.callbacks import EarlyStopping, ModelCheckpoint\n",
    "import sklearn, json\n",
    "import scipy.io as io\n",
    "from typing import Any, Dict\n",
    "path = '/mnt/data/gmr/'\n",
    "dataset_path = path + 'Dataset'"
   ],
   "metadata": {
    "collapsed": false,
    "pycharm": {
     "name": "#%%\n"
    }
   }
  },
  {
   "cell_type": "code",
   "execution_count": null,
   "outputs": [],
   "source": [
    "with h5py.File(dataset_path +'X_train.mat', 'r') as f:\n",
    "    X_train = np.array(f['X_train']).T\n",
    "print(X_train.shape)\n",
    "with h5py.File(dataset_path +'X_test.mat', 'r') as f:\n",
    "    X_test = np.array(f['X_test']).T"
   ],
   "metadata": {
    "collapsed": false,
    "pycharm": {
     "name": "#%%\n"
    }
   }
  },
  {
   "cell_type": "code",
   "execution_count": null,
   "outputs": [],
   "source": [
    "lbl_train = io.loadmat(dataset_path + 'lbl_train.mat')['lbl_train']\n",
    "lbl_test = io.loadmat(dataset_path + 'lbl_test.mat')['lbl_test']\n",
    "print(lbl_test.shape)\n",
    "print(lbl_train.shape)\n",
    "Y_train = io.loadmat(dataset_path + 'Y_train.mat')\n",
    "Y_train = Y_train['Y_train']\n",
    "Y_test = io.loadmat(dataset_path + 'Y_test.mat')\n",
    "Y_test = Y_test['Y_test']"
   ],
   "metadata": {
    "collapsed": false,
    "pycharm": {
     "name": "#%%\n"
    }
   }
  },
  {
   "cell_type": "code",
   "execution_count": null,
   "outputs": [],
   "source": [
    "classes = ['LFM', '2FSK', '4FSK', '8FSK', 'Costas', '2PSK', '4PSK', '8PSK', 'Barker', 'Huffman', 'Frank', 'P1', 'P2',\n",
    "           'P3', 'P4', 'Px', 'Zadoff-Chu', 'T1', 'T2', 'T3', 'T4', 'NM', 'ruido']\n",
    "I_x = X_train[:, :, 0]\n",
    "Q_x = X_train[:, :, 1]\n",
    "X_train[:, :, 1] = np.arctan(Q_x, I_x) / np.pi\n",
    "X_train[:, :, 0] = np.abs(I_x + 1j * Q_x)\n",
    "I_t = X_test[:, :, 0]\n",
    "Q_t = X_test[:, :, 1]\n",
    "X_test[:, :, 0] = np.arctan(Q_t, I_t) / np.pi\n",
    "X_test[:, :, 1] = np.abs(I_t + 1j * Q_t)"
   ],
   "metadata": {
    "collapsed": false,
    "pycharm": {
     "name": "#%%\n"
    }
   }
  },
  {
   "cell_type": "code",
   "execution_count": null,
   "outputs": [],
   "source": [
    "np.random.seed(2022)\n",
    "X_train, Y_train, lbl_train = sklearn.utils.shuffle(X_train[:], Y_train[:], lbl_train[:], random_state=2022)\n",
    "X_test, Y_test, lbl_test = sklearn.utils.shuffle(X_test[:], Y_test[:], lbl_test[:], random_state=2022)"
   ],
   "metadata": {
    "collapsed": false,
    "pycharm": {
     "name": "#%%\n"
    }
   }
  },
  {
   "cell_type": "markdown",
   "source": [
    "### We have to create the structure of a residual stack"
   ],
   "metadata": {
    "collapsed": false,
    "pycharm": {
     "name": "#%% md\n"
    }
   }
  },
  {
   "cell_type": "code",
   "execution_count": null,
   "outputs": [],
   "source": [
    "def res_stack(x, f):\n",
    "    \"\"\"\n",
    "    x : input vector\n",
    "    f : output shape\n",
    "    \"\"\"\n",
    "    if x.shape[1] != f:\n",
    "        x = Conv1D(f, 1, strides=1, padding='same', data_format='channels_last')(x)\n",
    "        x = BatchNormalization()(x)\n",
    "        x = Activation('relu')(x)\n",
    "    x_shortcut = x\n",
    "    x = Conv1D(f, 5, strides=1, padding=\"same\", data_format='channels_last')(x)\n",
    "    x = BatchNormalization()(x)\n",
    "    x = Activation('relu')(x)\n",
    "    x = Conv1D(f, 5, strides=1, padding=\"same\", data_format='channels_last')(x)\n",
    "    x = BatchNormalization()(x)\n",
    "    \"\"\"Now we add the skip connection\"\"\"\n",
    "    if x.shape[1] == x_shortcut.shape[1]:\n",
    "        x = Add()([x, x_shortcut])\n",
    "    else:\n",
    "        raise Exception(\"Skip function not implemented\")\n",
    "    \"\"\"After the addition the relu function is applied\"\"\"\n",
    "    x = Activation('relu')(x)\n",
    "    x = MaxPooling1D(pool_size=2, strides=None, padding='valid', data_format='channels_last')(x)\n",
    "    return x"
   ],
   "metadata": {
    "collapsed": false,
    "pycharm": {
     "name": "#%%\n"
    }
   }
  },
  {
   "cell_type": "code",
   "execution_count": null,
   "outputs": [],
   "source": [
    "def ResNet(input_shape):\n",
    "    X_input = Input(input)\n",
    "    x = res_stack(X_input, 32)\n",
    "    x = res_stack(x, 32)\n",
    "    x = res_stack(x, 32)\n",
    "    x = res_stack(x, 32)\n",
    "    x = res_stack(x, 32)\n",
    "    x = res_stack(x, 32)\n",
    "    x = Flatten()(x)\n",
    "    x = Dense(128, activation='selu')(x)\n",
    "    x = AlphaDropout(0.6)(x)\n",
    "    x = Dense(128, activation='selu')(x)\n",
    "    x = AlphaDropout(0.6)(x)\n",
    "    x = Dense(128, activation='softmax')(x)\n",
    "    # Create model. This creates your Keras model instance, you'll use this instance to train/test the model.\n",
    "    model = Model(inputs = X_input, outputs = x)\n",
    "    model.summary()\n",
    "    return model"
   ],
   "metadata": {
    "collapsed": false,
    "pycharm": {
     "name": "#%%\n"
    }
   }
  },
  {
   "cell_type": "code",
   "execution_count": null,
   "outputs": [],
   "source": [
    "plt.plot(history.history['loss'])\n",
    "plt.plot(history.history['val_loss'])\n",
    "plt.title('model loss')\n",
    "plt.ylabel('loss')\n",
    "plt.xlabel('epoch')\n",
    "plt.legend(['test', 'val'])\n",
    "plt.show()\n",
    "plt.savefig(path+ '\\graphs\\model_loss.pdf')"
   ],
   "metadata": {
    "collapsed": false,
    "pycharm": {
     "name": "#%%\n"
    }
   }
  },
  {
   "cell_type": "code",
   "execution_count": null,
   "outputs": [],
   "source": [
    "def getConfusionMatrixPlot(true_labels, predicted_labels,title):\n",
    "    # Compute confusion matrix\n",
    "    cm = confusion_matrix(true_labels, predicted_labels)\n",
    "    cm_norm = cm.astype('float') / cm.sum(axis=1)[:, np.newaxis]\n",
    "    cm_norm = np.nan_to_num(cm_norm)\n",
    "    cm = np.round(cm_norm,2)\n",
    "    print(cm)\n",
    "\n",
    "    # create figure\n",
    "    width = 18\n",
    "    height = width / 1.618\n",
    "    fig = plt.figure(figsize=(width, height))\n",
    "    plt.clf()\n",
    "    ax = fig.add_subplot(111)\n",
    "    ax.set_aspect(1)\n",
    "    ax.set_xlabel('Predicted label')\n",
    "    ax.set_ylabel('True label')\n",
    "    res = ax.imshow(cm, cmap=plt.cm.binary,\n",
    "                    interpolation='nearest', vmin=0, vmax=1)\n",
    "\n",
    "    # add color bar\n",
    "    plt.colorbar(res)\n",
    "\n",
    "    # annotate confusion entries\n",
    "    width = len(cm)\n",
    "    height = len(cm[0])\n",
    "\n",
    "    for x in range(width):\n",
    "        for y in range(height):\n",
    "            ax.annotate(str(cm[x][y]), xy=(y, x), horizontalalignment='center',\n",
    "                        verticalalignment='center', color=getFontColor(cm[x][y]))\n",
    "\n",
    "    # add genres as ticks\n",
    "    alphabet = classes\n",
    "    plt.xticks(range(width), alphabet[:width], rotation=30)\n",
    "    plt.yticks(range(height), alphabet[:height])\n",
    "    plt.title(title)\n",
    "    return plt"
   ],
   "metadata": {
    "collapsed": false,
    "pycharm": {
     "name": "#%%\n"
    }
   }
  }
 ],
 "metadata": {
  "kernelspec": {
   "display_name": "Python 3",
   "language": "python",
   "name": "python3"
  },
  "language_info": {
   "codemirror_mode": {
    "name": "ipython",
    "version": 2
   },
   "file_extension": ".py",
   "mimetype": "text/x-python",
   "name": "python",
   "nbconvert_exporter": "python",
   "pygments_lexer": "ipython2",
   "version": "2.7.6"
  }
 },
 "nbformat": 4,
 "nbformat_minor": 0
}