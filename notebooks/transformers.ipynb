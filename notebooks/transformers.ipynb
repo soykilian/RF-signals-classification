{
 "cells": [
  {
   "cell_type": "markdown",
   "id": "1ede5a2e",
   "metadata": {},
   "source": [
    "# Time Series Transformers\n",
    "### We aim to generate a transformer-based structure that generates an embedding from a 1024 time sequences obtained from our database generated with [this matlab code](https://github.com/soykilian/Signal-Generator.git)\n",
    "### Also following [this tutorial](https://towardsdatascience.com/the-time-series-transformer-2a521a0efad3)"
   ]
  },
  {
   "cell_type": "code",
   "execution_count": 1,
   "id": "8e4d0e73",
   "metadata": {},
   "outputs": [
    {
     "name": "stderr",
     "output_type": "stream",
     "text": [
      "2022-08-12 10:48:10.216944: I tensorflow/stream_executor/platform/default/dso_loader.cc:49] Successfully opened dynamic library libcudart.so.10.1\n"
     ]
    }
   ],
   "source": [
    "# import libraries\n",
    "import tensorflow as tf\n",
    "from tensorflow.keras import layers\n"
   ]
  },
  {
   "cell_type": "code",
   "execution_count": 2,
   "id": "7e07ad47",
   "metadata": {},
   "outputs": [
    {
     "ename": "IndentationError",
     "evalue": "expected an indented block (3416582806.py, line 1)",
     "output_type": "error",
     "traceback": [
      "\u001b[0;36m  Input \u001b[0;32mIn [2]\u001b[0;36m\u001b[0m\n\u001b[0;31m    class Series2Vec(layers.layer):\u001b[0m\n\u001b[0m                                   ^\u001b[0m\n\u001b[0;31mIndentationError\u001b[0m\u001b[0;31m:\u001b[0m expected an indented block\n"
     ]
    }
   ],
   "source": [
    "class Series2Vec(layers.Layer):\n",
    "    def __init__(self, kernel_size):\n",
    "        super(Series2Vec, self).__init__(trainable=True,name='Series2VecLayer')\n",
    "        self.k = kernel_size\n",
    "    def built(self, input_shape : int = 1024):\n",
    "        self.wb = self.add_weight(name='wb', shape=(input_shape,), initializer='uniform', trainable=True)\n",
    "        self.wb = self.add_weight(name='wb', shape=(input_shape,), initializer='uniform', trainable=True)\n",
    "    def call():"
   ]
  },
  {
   "cell_type": "code",
   "execution_count": null,
   "id": "3c8934d5",
   "metadata": {},
   "outputs": [],
   "source": []
  }
 ],
 "metadata": {
  "kernelspec": {
   "display_name": "Python 3 (ipykernel)",
   "language": "python",
   "name": "python3"
  },
  "language_info": {
   "codemirror_mode": {
    "name": "ipython",
    "version": 3
   },
   "file_extension": ".py",
   "mimetype": "text/x-python",
   "name": "python",
   "nbconvert_exporter": "python",
   "pygments_lexer": "ipython3",
   "version": "3.9.12"
  }
 },
 "nbformat": 4,
 "nbformat_minor": 5
}
